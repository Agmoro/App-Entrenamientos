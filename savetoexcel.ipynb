{
 "cells": [
  {
   "cell_type": "code",
   "execution_count": null,
   "metadata": {},
   "outputs": [],
   "source": [
    "import pandas as pd\n",
    "\n",
    "dfexcel = pd.read_excel(\"Cursos-DB.xlsx\")"
   ]
  },
  {
   "cell_type": "markdown",
   "metadata": {},
   "source": [
    "Funcion de carga, toma datos junto con la tabla excel y los combina"
   ]
  },
  {
   "cell_type": "code",
   "execution_count": null,
   "metadata": {},
   "outputs": [],
   "source": [
    "def cargar(dfexcel=pd.DataFrame()):\n",
    "    a=input(\"Cargue un valor: \")\n",
    "    b=input(\"Cargue un valor: \")\n",
    "    c=input(\"Cargue un valor: \")\n",
    "    idrow=dfexcel.index[-1] + 2\n",
    "    addrow = [idrow, a, b, c]\n",
    "    df1 = pd.DataFrame([addrow], columns=dfexcel.columns.values.tolist())\n",
    "    df1 = df1.set_index(\"ID\")\n",
    "    dfexcel = dfexcel.set_index(\"ID\")\n",
    "    print(df1)\n",
    "    print(dfexcel)\n",
    "    df2 = pd.concat([dfexcel, df1], verify_integrity=True)\n",
    "    return df2"
   ]
  },
  {
   "cell_type": "markdown",
   "metadata": {},
   "source": [
    "Funcion para guardar en hoja de excel"
   ]
  },
  {
   "cell_type": "code",
   "execution_count": null,
   "metadata": {},
   "outputs": [],
   "source": [
    "def guardar(data=pd.DataFrame()):\n",
    "    with pd.ExcelWriter(\n",
    "        \"Cursos-DB.xlsx\",\n",
    "        mode=\"a\",\n",
    "        engine=\"openpyxl\",\n",
    "        if_sheet_exists=\"overlay\",\n",
    "    ) as writer:\n",
    "        data.to_excel(writer, sheet_name=\"Prueba\")"
   ]
  },
  {
   "cell_type": "markdown",
   "metadata": {},
   "source": [
    "Prueba de funcionamiento"
   ]
  },
  {
   "cell_type": "code",
   "execution_count": null,
   "metadata": {},
   "outputs": [],
   "source": [
    "savelist= cargar(dfexcel)\n",
    "guardar(savelist)\n",
    "dfcheck=pd.read_excel(\"Cursos-DB.xlsx\").set_index(\"ID\")\n",
    "print(dfcheck)"
   ]
  }
 ],
 "metadata": {
  "kernelspec": {
   "display_name": "Python 3.10.8 64-bit",
   "language": "python",
   "name": "python3"
  },
  "language_info": {
   "codemirror_mode": {
    "name": "ipython",
    "version": 3
   },
   "file_extension": ".py",
   "mimetype": "text/x-python",
   "name": "python",
   "nbconvert_exporter": "python",
   "pygments_lexer": "ipython3",
   "version": "3.10.8"
  },
  "orig_nbformat": 4,
  "vscode": {
   "interpreter": {
    "hash": "c90eb4039bec017954b64c34f0f2dad4b4102b7e6b147dbbc05c9de2b6012750"
   }
  }
 },
 "nbformat": 4,
 "nbformat_minor": 2
}
